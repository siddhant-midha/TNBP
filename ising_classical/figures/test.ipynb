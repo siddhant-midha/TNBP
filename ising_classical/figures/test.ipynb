{
 "cells": [
  {
   "cell_type": "code",
   "execution_count": null,
   "id": "4ca82a41",
   "metadata": {
    "vscode": {
     "languageId": "julia"
    }
   },
   "outputs": [],
   "source": [
    "include(\"../cluster_expansion_free_energy.jl\")\n",
    "\n",
    "cluster_data, cluster_filename = load_latest_single_site_cluster_file(; size_filter=\"L$(L)\", weight_filter=\"w$(max_weight)\", boundary_filter=\"periodic\", save_dir = \"../../saved_clusters\")\n"
   ]
  }
 ],
 "metadata": {
  "language_info": {
   "name": "python"
  }
 },
 "nbformat": 4,
 "nbformat_minor": 5
}
